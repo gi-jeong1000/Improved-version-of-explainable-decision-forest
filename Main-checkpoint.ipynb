{
 "cells": [
  {
   "cell_type": "code",
   "execution_count": 1,
   "metadata": {},
   "outputs": [],
   "source": [
    "import pandas as pd\n",
    "import numpy as np\n",
    "from ExperimentSetting import *\n",
    "import seaborn as sns\n",
    "import matplotlib.pyplot as plt\n",
    "%matplotlib inline\n",
    "import warnings\n",
    "\n",
    "warnings.filterwarnings('ignore')"
   ]
  },
  {
   "cell_type": "code",
   "execution_count": 3,
   "metadata": {
    "ExecuteTime": {
     "end_time": "2024-05-06T15:13:08.255862Z",
     "start_time": "2024-05-06T15:13:08.244614Z"
    }
   },
   "outputs": [
    {
     "ename": "NameError",
     "evalue": "name 'ExperimentSetting' is not defined",
     "output_type": "error",
     "traceback": [
      "\u001B[0;31m---------------------------------------------------------------------------\u001B[0m",
      "\u001B[0;31mNameError\u001B[0m                                 Traceback (most recent call last)",
      "Cell \u001B[0;32mIn[3], line 8\u001B[0m\n\u001B[1;32m      5\u001B[0m fixed_params\u001B[38;5;241m=\u001B[39m{} \n\u001B[1;32m      6\u001B[0m num_of_iterations\u001B[38;5;241m=\u001B[39m\u001B[38;5;241m10\u001B[39m\n\u001B[0;32m----> 8\u001B[0m e \u001B[38;5;241m=\u001B[39m ExperimentSetting(branch_probability_thresholds,df_names,\n\u001B[1;32m      9\u001B[0m                                      number_of_estimators,fixed_params,num_of_iterations)\n",
      "\u001B[0;31mNameError\u001B[0m: name 'ExperimentSetting' is not defined"
     ]
    }
   ],
   "source": [
    "branch_probability_thresholds=[3000]\n",
    "filter_approaches = ['probability']\n",
    "df_names = ['iris']\n",
    "number_of_estimators=100 \n",
    "fixed_params={} \n",
    "num_of_iterations=10\n",
    "\n",
    "e = ExperimentSetting(branch_probability_thresholds,df_names,\n",
    "                                     number_of_estimators,fixed_params,num_of_iterations)"
   ]
  },
  {
   "cell_type": "code",
   "execution_count": 3,
   "metadata": {},
   "outputs": [
    {
     "name": "stdout",
     "output_type": "stream",
     "text": [
      "{'max_number_of_branches': 3000, 'df_name': 'iris', 'number_of_estimators': 100}\n",
      "0\n",
      "0.9999826388888889 [26, 49]\n",
      "1.0 [26, 49, 1]\n",
      "1.0 [26, 49, 1, 5]\n",
      "1.0 [26, 49, 1, 5, 0]\n",
      "1.0 [26, 49, 1, 5, 0, 8]\n",
      "1.0 [26, 49, 1, 5, 0, 8, 2]\n",
      "1.0 [26, 49, 1, 5, 0, 8, 2, 6]\n",
      "1.0 [26, 49, 1, 5, 0, 8, 2, 6, 3]\n",
      "1.0 [26, 49, 1, 5, 0, 8, 2, 6, 3, 7]\n",
      "Finish pruning\n",
      "0.9999826388888889 [26, 49]\n",
      "1.0 [26, 49, 1]\n",
      "1.0 [26, 49, 1, 5]\n",
      "1.0 [26, 49, 1, 5, 0]\n",
      "1.0 [26, 49, 1, 5, 0, 8]\n",
      "1.0 [26, 49, 1, 5, 0, 8, 2]\n",
      "1.0 [26, 49, 1, 5, 0, 8, 2, 6]\n",
      "1.0 [26, 49, 1, 5, 0, 8, 2, 6, 3]\n",
      "1.0 [26, 49, 1, 5, 0, 8, 2, 6, 3, 7]\n",
      "Finish pruning\n",
      "0.9999826388888889 [26, 49]\n",
      "1.0 [26, 49, 1]\n",
      "1.0 [26, 49, 1, 5]\n",
      "1.0 [26, 49, 1, 5, 0]\n",
      "1.0 [26, 49, 1, 5, 0, 8]\n",
      "1.0 [26, 49, 1, 5, 0, 8, 2]\n",
      "1.0 [26, 49, 1, 5, 0, 8, 2, 6]\n",
      "1.0 [26, 49, 1, 5, 0, 8, 2, 6, 3]\n",
      "1.0 [26, 49, 1, 5, 0, 8, 2, 6, 3, 7]\n",
      "Finish pruning\n",
      "Iteration 1: 4 conjunctions\n",
      "Iteration 2: 9 conjunctions\n",
      "Iteration 3: 23 conjunctions\n",
      "Iteration 4: 116 conjunctions\n",
      "Iteration 5: 223 conjunctions\n",
      "Iteration 6: 284 conjunctions\n",
      "Iteration 7: 702 conjunctions\n",
      "Iteration 8: 876 conjunctions\n",
      "Iteration 9: 1197 conjunctions\n",
      "Final CS size: 1646\n",
      "1\n",
      "1.0 [42, 34]\n",
      "1.0 [42, 34, 0]\n",
      "1.0000000000000002 [42, 34, 0, 41]\n",
      "1.0000000000000002 [42, 34, 0, 41, 2]\n",
      "1.0000000000000002 [42, 34, 0, 41, 2, 12]\n",
      "1.0000000000000002 [42, 34, 0, 41, 2, 12, 10]\n",
      "1.0000000000000002 [42, 34, 0, 41, 2, 12, 10, 51]\n",
      "1.0000000000000002 [42, 34, 0, 41, 2, 12, 10, 51, 23]\n",
      "1.0000000000000002 [42, 34, 0, 41, 2, 12, 10, 51, 23, 32]\n",
      "Finish pruning\n",
      "1.0 [42, 34]\n",
      "1.0 [42, 34, 0]\n",
      "1.0000000000000002 [42, 34, 0, 41]\n",
      "1.0000000000000002 [42, 34, 0, 41, 2]\n",
      "1.0000000000000002 [42, 34, 0, 41, 2, 12]\n",
      "1.0000000000000002 [42, 34, 0, 41, 2, 12, 10]\n",
      "1.0000000000000002 [42, 34, 0, 41, 2, 12, 10, 51]\n",
      "1.0000000000000002 [42, 34, 0, 41, 2, 12, 10, 51, 23]\n",
      "1.0000000000000002 [42, 34, 0, 41, 2, 12, 10, 51, 23, 32]\n",
      "Finish pruning\n",
      "1.0 [42, 34]\n",
      "1.0 [42, 34, 0]\n",
      "1.0000000000000002 [42, 34, 0, 41]\n",
      "1.0000000000000002 [42, 34, 0, 41, 2]\n",
      "1.0000000000000002 [42, 34, 0, 41, 2, 12]\n",
      "1.0000000000000002 [42, 34, 0, 41, 2, 12, 10]\n",
      "1.0000000000000002 [42, 34, 0, 41, 2, 12, 10, 51]\n",
      "1.0000000000000002 [42, 34, 0, 41, 2, 12, 10, 51, 23]\n",
      "1.0000000000000002 [42, 34, 0, 41, 2, 12, 10, 51, 23, 32]\n",
      "Finish pruning\n",
      "Iteration 1: 11 conjunctions\n",
      "Iteration 2: 47 conjunctions\n",
      "Iteration 3: 116 conjunctions\n",
      "Iteration 4: 271 conjunctions\n",
      "Iteration 5: 380 conjunctions\n",
      "Iteration 6: 441 conjunctions\n",
      "Iteration 7: 635 conjunctions\n",
      "Iteration 8: 766 conjunctions\n",
      "Iteration 9: 861 conjunctions\n",
      "Final CS size: 1024\n",
      "2\n",
      "0.9999826388888889 [47, 53]\n",
      "1.0 [47, 53, 2]\n",
      "1.0 [47, 53, 2, 11]\n",
      "1.0 [47, 53, 2, 11, 12]\n",
      "1.0 [47, 53, 2, 11, 12, 0]\n",
      "1.0 [47, 53, 2, 11, 12, 0, 5]\n",
      "1.0 [47, 53, 2, 11, 12, 0, 5, 1]\n",
      "1.0 [47, 53, 2, 11, 12, 0, 5, 1, 6]\n",
      "1.0 [47, 53, 2, 11, 12, 0, 5, 1, 6, 4]\n",
      "Finish pruning\n",
      "0.9999826388888889 [47, 53]\n",
      "1.0 [47, 53, 2]\n",
      "1.0 [47, 53, 2, 11]\n",
      "1.0 [47, 53, 2, 11, 12]\n",
      "1.0 [47, 53, 2, 11, 12, 0]\n",
      "1.0 [47, 53, 2, 11, 12, 0, 5]\n",
      "1.0000000000000002 [47, 53, 2, 11, 12, 0, 5, 13]\n",
      "1.0000000000000002 [47, 53, 2, 11, 12, 0, 5, 13, 9]\n",
      "1.0000000000000002 [47, 53, 2, 11, 12, 0, 5, 13, 9, 67]\n",
      "Finish pruning\n",
      "0.9999826388888889 [47, 53]\n",
      "1.0 [47, 53, 2]\n",
      "1.0 [47, 53, 2, 11]\n",
      "1.0 [47, 53, 2, 11, 12]\n",
      "1.0 [47, 53, 2, 11, 12, 0]\n",
      "1.0 [47, 53, 2, 11, 12, 0, 5]\n",
      "1.0 [47, 53, 2, 11, 12, 0, 5, 1]\n",
      "1.0 [47, 53, 2, 11, 12, 0, 5, 1, 6]\n",
      "1.0 [47, 53, 2, 11, 12, 0, 5, 1, 6, 4]\n",
      "Finish pruning\n",
      "Iteration 1: 4 conjunctions\n",
      "Iteration 2: 13 conjunctions\n",
      "Iteration 3: 31 conjunctions\n",
      "Iteration 4: 88 conjunctions\n",
      "Iteration 5: 242 conjunctions\n",
      "Iteration 6: 548 conjunctions\n",
      "Iteration 7: 1081 conjunctions\n",
      "Iteration 8: 1314 conjunctions\n",
      "Iteration 9: 1620 conjunctions\n",
      "Final CS size: 1756\n",
      "3\n",
      "1.0 [52, 15]\n",
      "1.0 [52, 15, 0]\n",
      "1.0 [52, 15, 0, 1]\n",
      "1.0 [52, 15, 0, 1, 2]\n",
      "1.0 [52, 15, 0, 1, 2, 3]\n",
      "1.0 [52, 15, 0, 1, 2, 3, 6]\n",
      "1.0 [52, 15, 0, 1, 2, 3, 6, 5]\n",
      "1.0 [52, 15, 0, 1, 2, 3, 6, 5, 4]\n",
      "1.0 [52, 15, 0, 1, 2, 3, 6, 5, 4, 7]\n",
      "Finish pruning\n",
      "1.0 [52, 15]\n",
      "1.0 [52, 15, 0]\n",
      "1.0 [52, 15, 0, 1]\n",
      "1.0 [52, 15, 0, 1, 2]\n"
     ]
    },
    {
     "ename": "KeyboardInterrupt",
     "evalue": "",
     "output_type": "error",
     "traceback": [
      "\u001B[1;31m---------------------------------------------------------------------------\u001B[0m",
      "\u001B[1;31mKeyboardInterrupt\u001B[0m                         Traceback (most recent call last)",
      "\u001B[1;32m<ipython-input-3-76583f07a426>\u001B[0m in \u001B[0;36m<module>\u001B[1;34m\u001B[0m\n\u001B[1;32m----> 1\u001B[1;33m \u001B[0me\u001B[0m\u001B[1;33m.\u001B[0m\u001B[0mrun\u001B[0m\u001B[1;33m(\u001B[0m\u001B[1;33m)\u001B[0m\u001B[1;33m\u001B[0m\u001B[1;33m\u001B[0m\u001B[0m\n\u001B[0m",
      "\u001B[1;32m~\\Desktop\\1st paper\\github\\ExperimentSetting.py\u001B[0m in \u001B[0;36mrun\u001B[1;34m(self)\u001B[0m\n\u001B[0;32m     40\u001B[0m                 \u001B[0md\u001B[0m\u001B[1;33m[\u001B[0m\u001B[1;34m'number_of_estimators'\u001B[0m\u001B[1;33m]\u001B[0m \u001B[1;33m=\u001B[0m \u001B[0mself\u001B[0m\u001B[1;33m.\u001B[0m\u001B[0mnumber_of_estimators\u001B[0m\u001B[1;33m\u001B[0m\u001B[1;33m\u001B[0m\u001B[0m\n\u001B[0;32m     41\u001B[0m                 \u001B[0mprint\u001B[0m\u001B[1;33m(\u001B[0m\u001B[0md\u001B[0m\u001B[1;33m)\u001B[0m\u001B[1;33m\u001B[0m\u001B[1;33m\u001B[0m\u001B[0m\n\u001B[1;32m---> 42\u001B[1;33m                 \u001B[0mself\u001B[0m\u001B[1;33m.\u001B[0m\u001B[0mrun_experiment\u001B[0m\u001B[1;33m(\u001B[0m\u001B[0mthreshold\u001B[0m\u001B[1;33m,\u001B[0m \u001B[0mdf\u001B[0m\u001B[1;33m,\u001B[0m \u001B[0mx_columns\u001B[0m\u001B[1;33m,\u001B[0m \u001B[0my_column\u001B[0m\u001B[1;33m,\u001B[0m \u001B[0mfeature_types\u001B[0m\u001B[1;33m,\u001B[0m \u001B[0md\u001B[0m\u001B[1;33m)\u001B[0m\u001B[1;33m\u001B[0m\u001B[1;33m\u001B[0m\u001B[0m\n\u001B[0m\u001B[0;32m     43\u001B[0m     \u001B[1;32mdef\u001B[0m \u001B[0mrun_experiment\u001B[0m\u001B[1;33m(\u001B[0m\u001B[0mself\u001B[0m\u001B[1;33m,\u001B[0m\u001B[0mbranch_probability_threshold\u001B[0m\u001B[1;33m,\u001B[0m\u001B[0mdf\u001B[0m\u001B[1;33m,\u001B[0m\u001B[0mx_columns\u001B[0m\u001B[1;33m,\u001B[0m\u001B[0my_column\u001B[0m\u001B[1;33m,\u001B[0m\u001B[0mfeature_types\u001B[0m\u001B[1;33m,\u001B[0m\u001B[0mhyper_parameters_dict\u001B[0m\u001B[1;33m)\u001B[0m\u001B[1;33m:\u001B[0m\u001B[1;33m\u001B[0m\u001B[1;33m\u001B[0m\u001B[0m\n\u001B[0;32m     44\u001B[0m         \u001B[1;32mfor\u001B[0m \u001B[0mi\u001B[0m \u001B[1;32min\u001B[0m \u001B[0mrange\u001B[0m\u001B[1;33m(\u001B[0m\u001B[0mself\u001B[0m\u001B[1;33m.\u001B[0m\u001B[0mnum_of_iterations\u001B[0m\u001B[1;33m)\u001B[0m\u001B[1;33m:\u001B[0m\u001B[1;33m\u001B[0m\u001B[1;33m\u001B[0m\u001B[0m\n",
      "\u001B[1;32m~\\Desktop\\1st paper\\github\\ExperimentSetting.py\u001B[0m in \u001B[0;36mrun_experiment\u001B[1;34m(self, branch_probability_threshold, df, x_columns, y_column, feature_types, hyper_parameters_dict)\u001B[0m\n\u001B[0;32m     76\u001B[0m \u001B[1;33m\u001B[0m\u001B[0m\n\u001B[0;32m     77\u001B[0m             \u001B[0mstart_temp2\u001B[0m\u001B[1;33m=\u001B[0m\u001B[0mdatetime\u001B[0m\u001B[1;33m.\u001B[0m\u001B[0mdatetime\u001B[0m\u001B[1;33m.\u001B[0m\u001B[0mnow\u001B[0m\u001B[1;33m(\u001B[0m\u001B[1;33m)\u001B[0m\u001B[1;33m\u001B[0m\u001B[1;33m\u001B[0m\u001B[0m\n\u001B[1;32m---> 78\u001B[1;33m             \u001B[0mreduce_error_pruning\u001B[0m\u001B[1;33m(\u001B[0m\u001B[0mrf\u001B[0m\u001B[1;33m,\u001B[0m\u001B[0mtrainAndValidation_x\u001B[0m\u001B[1;33m,\u001B[0m\u001B[0mtrainAndValidation_y\u001B[0m\u001B[1;33m,\u001B[0m\u001B[1;36m10\u001B[0m\u001B[1;33m)\u001B[0m\u001B[1;33m\u001B[0m\u001B[1;33m\u001B[0m\u001B[0m\n\u001B[0m\u001B[0;32m     79\u001B[0m             \u001B[0mresult_dict\u001B[0m\u001B[1;33m[\u001B[0m\u001B[1;34m'old pruning time'\u001B[0m\u001B[1;33m]\u001B[0m\u001B[1;33m=\u001B[0m\u001B[1;33m(\u001B[0m\u001B[0mdatetime\u001B[0m\u001B[1;33m.\u001B[0m\u001B[0mdatetime\u001B[0m\u001B[1;33m.\u001B[0m\u001B[0mnow\u001B[0m\u001B[1;33m(\u001B[0m\u001B[1;33m)\u001B[0m\u001B[1;33m-\u001B[0m\u001B[0mstart_temp2\u001B[0m\u001B[1;33m)\u001B[0m\u001B[1;33m.\u001B[0m\u001B[0mtotal_seconds\u001B[0m\u001B[1;33m(\u001B[0m\u001B[1;33m)\u001B[0m\u001B[1;33m\u001B[0m\u001B[1;33m\u001B[0m\u001B[0m\n\u001B[0;32m     80\u001B[0m \u001B[1;33m\u001B[0m\u001B[0m\n",
      "\u001B[1;32m~\\Desktop\\1st paper\\github\\pruningFunctions.py\u001B[0m in \u001B[0;36mreduce_error_pruning\u001B[1;34m(model, validation_x, validation_y, min_size)\u001B[0m\n\u001B[0;32m     30\u001B[0m     \u001B[0mbest_auc\u001B[0m\u001B[1;33m,\u001B[0m\u001B[0mcurrent_indexes\u001B[0m \u001B[1;33m=\u001B[0m \u001B[0mselect_index\u001B[0m\u001B[1;33m(\u001B[0m\u001B[0mmodel\u001B[0m\u001B[1;33m,\u001B[0m\u001B[1;33m[\u001B[0m\u001B[1;33m]\u001B[0m\u001B[1;33m,\u001B[0m\u001B[0mvalidation_x\u001B[0m\u001B[1;33m,\u001B[0m\u001B[0mvalidation_y\u001B[0m\u001B[1;33m)\u001B[0m\u001B[1;33m\u001B[0m\u001B[1;33m\u001B[0m\u001B[0m\n\u001B[0;32m     31\u001B[0m     \u001B[1;32mwhile\u001B[0m \u001B[0mlen\u001B[0m\u001B[1;33m(\u001B[0m\u001B[0mcurrent_indexes\u001B[0m\u001B[1;33m)\u001B[0m \u001B[1;33m<=\u001B[0m \u001B[0mmodel\u001B[0m\u001B[1;33m.\u001B[0m\u001B[0mn_estimators\u001B[0m\u001B[1;33m:\u001B[0m\u001B[1;33m\u001B[0m\u001B[1;33m\u001B[0m\u001B[0m\n\u001B[1;32m---> 32\u001B[1;33m         \u001B[0mnew_auc\u001B[0m\u001B[1;33m,\u001B[0m \u001B[0mnew_current_indexes\u001B[0m \u001B[1;33m=\u001B[0m \u001B[0mselect_index\u001B[0m\u001B[1;33m(\u001B[0m\u001B[0mmodel\u001B[0m\u001B[1;33m,\u001B[0m \u001B[0mcurrent_indexes\u001B[0m\u001B[1;33m,\u001B[0m\u001B[0mvalidation_x\u001B[0m\u001B[1;33m,\u001B[0m\u001B[0mvalidation_y\u001B[0m\u001B[1;33m)\u001B[0m\u001B[1;33m\u001B[0m\u001B[1;33m\u001B[0m\u001B[0m\n\u001B[0m\u001B[0;32m     33\u001B[0m         \u001B[1;32mif\u001B[0m \u001B[0mnew_auc\u001B[0m \u001B[1;33m<=\u001B[0m \u001B[0mbest_auc\u001B[0m \u001B[1;32mand\u001B[0m \u001B[0mlen\u001B[0m\u001B[1;33m(\u001B[0m\u001B[0mnew_current_indexes\u001B[0m\u001B[1;33m)\u001B[0m \u001B[1;33m>\u001B[0m \u001B[0mmin_size\u001B[0m\u001B[1;33m:\u001B[0m\u001B[1;33m\u001B[0m\u001B[1;33m\u001B[0m\u001B[0m\n\u001B[0;32m     34\u001B[0m             \u001B[1;32mbreak\u001B[0m\u001B[1;33m\u001B[0m\u001B[1;33m\u001B[0m\u001B[0m\n",
      "\u001B[1;32m~\\Desktop\\1st paper\\github\\pruningFunctions.py\u001B[0m in \u001B[0;36mselect_index\u001B[1;34m(rf, current_indexes, validation_x, validation_y)\u001B[0m\n\u001B[0;32m     22\u001B[0m         \u001B[1;32mif\u001B[0m \u001B[0mi\u001B[0m \u001B[1;32min\u001B[0m \u001B[0mcurrent_indexes\u001B[0m\u001B[1;33m:\u001B[0m\u001B[1;33m\u001B[0m\u001B[1;33m\u001B[0m\u001B[0m\n\u001B[0;32m     23\u001B[0m             \u001B[1;32mcontinue\u001B[0m\u001B[1;33m\u001B[0m\u001B[1;33m\u001B[0m\u001B[0m\n\u001B[1;32m---> 24\u001B[1;33m         \u001B[0mpredictions\u001B[0m \u001B[1;33m=\u001B[0m \u001B[0mpredict_with_included_trees\u001B[0m\u001B[1;33m(\u001B[0m\u001B[0mrf\u001B[0m\u001B[1;33m,\u001B[0m\u001B[0mcurrent_indexes\u001B[0m\u001B[1;33m+\u001B[0m\u001B[1;33m[\u001B[0m\u001B[0mi\u001B[0m\u001B[1;33m]\u001B[0m\u001B[1;33m,\u001B[0m\u001B[0mvalidation_x\u001B[0m\u001B[1;33m)\u001B[0m\u001B[1;33m\u001B[0m\u001B[1;33m\u001B[0m\u001B[0m\n\u001B[0m\u001B[0;32m     25\u001B[0m         \u001B[0moptions_auc\u001B[0m\u001B[1;33m[\u001B[0m\u001B[0mi\u001B[0m\u001B[1;33m]\u001B[0m \u001B[1;33m=\u001B[0m \u001B[0mget_auc\u001B[0m\u001B[1;33m(\u001B[0m\u001B[0mvalidation_y\u001B[0m\u001B[1;33m,\u001B[0m\u001B[0mpredictions\u001B[0m\u001B[1;33m,\u001B[0m\u001B[0mrf\u001B[0m\u001B[1;33m.\u001B[0m\u001B[0mclasses_\u001B[0m\u001B[1;33m)\u001B[0m\u001B[1;33m\u001B[0m\u001B[1;33m\u001B[0m\u001B[0m\n\u001B[0;32m     26\u001B[0m     \u001B[0mbest_index\u001B[0m \u001B[1;33m=\u001B[0m \u001B[0mmax\u001B[0m\u001B[1;33m(\u001B[0m\u001B[0moptions_auc\u001B[0m\u001B[1;33m,\u001B[0m \u001B[0mkey\u001B[0m\u001B[1;33m=\u001B[0m\u001B[0moptions_auc\u001B[0m\u001B[1;33m.\u001B[0m\u001B[0mget\u001B[0m\u001B[1;33m)\u001B[0m\u001B[1;33m\u001B[0m\u001B[1;33m\u001B[0m\u001B[0m\n",
      "\u001B[1;32m~\\Desktop\\1st paper\\github\\pruningFunctions.py\u001B[0m in \u001B[0;36mpredict_with_included_trees\u001B[1;34m(model, included_indexes, X)\u001B[0m\n\u001B[0;32m      9\u001B[0m     \u001B[0mpredictions\u001B[0m\u001B[1;33m=\u001B[0m\u001B[1;33m[\u001B[0m\u001B[1;33m]\u001B[0m\u001B[1;33m\u001B[0m\u001B[1;33m\u001B[0m\u001B[0m\n\u001B[0;32m     10\u001B[0m     \u001B[1;32mfor\u001B[0m \u001B[0minst\u001B[0m \u001B[1;32min\u001B[0m \u001B[0mX\u001B[0m\u001B[1;33m:\u001B[0m\u001B[1;33m\u001B[0m\u001B[1;33m\u001B[0m\u001B[0m\n\u001B[1;32m---> 11\u001B[1;33m         \u001B[0mpredictions\u001B[0m\u001B[1;33m.\u001B[0m\u001B[0mappend\u001B[0m\u001B[1;33m(\u001B[0m\u001B[0mpredict_instance_with_included_tree\u001B[0m\u001B[1;33m(\u001B[0m\u001B[0mmodel\u001B[0m\u001B[1;33m,\u001B[0m\u001B[0mincluded_indexes\u001B[0m\u001B[1;33m,\u001B[0m\u001B[0minst\u001B[0m\u001B[1;33m)\u001B[0m\u001B[1;33m)\u001B[0m\u001B[1;33m\u001B[0m\u001B[1;33m\u001B[0m\u001B[0m\n\u001B[0m\u001B[0;32m     12\u001B[0m     \u001B[1;32mreturn\u001B[0m \u001B[0mnp\u001B[0m\u001B[1;33m.\u001B[0m\u001B[0marray\u001B[0m\u001B[1;33m(\u001B[0m\u001B[0mpredictions\u001B[0m\u001B[1;33m)\u001B[0m\u001B[1;33m\u001B[0m\u001B[1;33m\u001B[0m\u001B[0m\n\u001B[0;32m     13\u001B[0m \u001B[1;32mdef\u001B[0m \u001B[0mpredict_instance_with_included_tree\u001B[0m\u001B[1;33m(\u001B[0m\u001B[0mmodel\u001B[0m\u001B[1;33m,\u001B[0m\u001B[0mincluded_indexes\u001B[0m\u001B[1;33m,\u001B[0m\u001B[0minst\u001B[0m\u001B[1;33m)\u001B[0m\u001B[1;33m:\u001B[0m\u001B[1;33m\u001B[0m\u001B[1;33m\u001B[0m\u001B[0m\n",
      "\u001B[1;32m~\\Desktop\\1st paper\\github\\pruningFunctions.py\u001B[0m in \u001B[0;36mpredict_instance_with_included_tree\u001B[1;34m(model, included_indexes, inst)\u001B[0m\n\u001B[0;32m     15\u001B[0m     \u001B[1;32mfor\u001B[0m \u001B[0mi\u001B[0m\u001B[1;33m,\u001B[0m\u001B[0mt\u001B[0m \u001B[1;32min\u001B[0m \u001B[0menumerate\u001B[0m\u001B[1;33m(\u001B[0m\u001B[0mmodel\u001B[0m\u001B[1;33m.\u001B[0m\u001B[0mestimators_\u001B[0m\u001B[1;33m)\u001B[0m\u001B[1;33m:\u001B[0m\u001B[1;33m\u001B[0m\u001B[1;33m\u001B[0m\u001B[0m\n\u001B[0;32m     16\u001B[0m         \u001B[1;32mif\u001B[0m \u001B[0mi\u001B[0m \u001B[1;32min\u001B[0m \u001B[0mincluded_indexes\u001B[0m\u001B[1;33m:\u001B[0m\u001B[1;33m\u001B[0m\u001B[1;33m\u001B[0m\u001B[0m\n\u001B[1;32m---> 17\u001B[1;33m             \u001B[0mv\u001B[0m \u001B[1;33m=\u001B[0m \u001B[0mv\u001B[0m \u001B[1;33m+\u001B[0m \u001B[0mt\u001B[0m\u001B[1;33m.\u001B[0m\u001B[0mpredict_proba\u001B[0m\u001B[1;33m(\u001B[0m\u001B[0minst\u001B[0m\u001B[1;33m.\u001B[0m\u001B[0mreshape\u001B[0m\u001B[1;33m(\u001B[0m\u001B[1;36m1\u001B[0m\u001B[1;33m,\u001B[0m \u001B[1;33m-\u001B[0m\u001B[1;36m1\u001B[0m\u001B[1;33m)\u001B[0m\u001B[1;33m)\u001B[0m\u001B[1;33m[\u001B[0m\u001B[1;36m0\u001B[0m\u001B[1;33m]\u001B[0m\u001B[1;33m\u001B[0m\u001B[1;33m\u001B[0m\u001B[0m\n\u001B[0m\u001B[0;32m     18\u001B[0m     \u001B[1;32mreturn\u001B[0m \u001B[0mv\u001B[0m\u001B[1;33m/\u001B[0m\u001B[0mnp\u001B[0m\u001B[1;33m.\u001B[0m\u001B[0msum\u001B[0m\u001B[1;33m(\u001B[0m\u001B[0mv\u001B[0m\u001B[1;33m)\u001B[0m\u001B[1;33m\u001B[0m\u001B[1;33m\u001B[0m\u001B[0m\n\u001B[0;32m     19\u001B[0m \u001B[1;32mdef\u001B[0m \u001B[0mselect_index\u001B[0m\u001B[1;33m(\u001B[0m\u001B[0mrf\u001B[0m\u001B[1;33m,\u001B[0m\u001B[0mcurrent_indexes\u001B[0m\u001B[1;33m,\u001B[0m\u001B[0mvalidation_x\u001B[0m\u001B[1;33m,\u001B[0m\u001B[0mvalidation_y\u001B[0m\u001B[1;33m)\u001B[0m\u001B[1;33m:\u001B[0m\u001B[1;33m\u001B[0m\u001B[1;33m\u001B[0m\u001B[0m\n",
      "\u001B[1;32m~\\anaconda3\\lib\\site-packages\\sklearn\\tree\\_classes.py\u001B[0m in \u001B[0;36mpredict_proba\u001B[1;34m(self, X, check_input)\u001B[0m\n\u001B[0;32m    929\u001B[0m         \u001B[0mcheck_is_fitted\u001B[0m\u001B[1;33m(\u001B[0m\u001B[0mself\u001B[0m\u001B[1;33m)\u001B[0m\u001B[1;33m\u001B[0m\u001B[1;33m\u001B[0m\u001B[0m\n\u001B[0;32m    930\u001B[0m         \u001B[0mX\u001B[0m \u001B[1;33m=\u001B[0m \u001B[0mself\u001B[0m\u001B[1;33m.\u001B[0m\u001B[0m_validate_X_predict\u001B[0m\u001B[1;33m(\u001B[0m\u001B[0mX\u001B[0m\u001B[1;33m,\u001B[0m \u001B[0mcheck_input\u001B[0m\u001B[1;33m)\u001B[0m\u001B[1;33m\u001B[0m\u001B[1;33m\u001B[0m\u001B[0m\n\u001B[1;32m--> 931\u001B[1;33m         \u001B[0mproba\u001B[0m \u001B[1;33m=\u001B[0m \u001B[0mself\u001B[0m\u001B[1;33m.\u001B[0m\u001B[0mtree_\u001B[0m\u001B[1;33m.\u001B[0m\u001B[0mpredict\u001B[0m\u001B[1;33m(\u001B[0m\u001B[0mX\u001B[0m\u001B[1;33m)\u001B[0m\u001B[1;33m\u001B[0m\u001B[1;33m\u001B[0m\u001B[0m\n\u001B[0m\u001B[0;32m    932\u001B[0m \u001B[1;33m\u001B[0m\u001B[0m\n\u001B[0;32m    933\u001B[0m         \u001B[1;32mif\u001B[0m \u001B[0mself\u001B[0m\u001B[1;33m.\u001B[0m\u001B[0mn_outputs_\u001B[0m \u001B[1;33m==\u001B[0m \u001B[1;36m1\u001B[0m\u001B[1;33m:\u001B[0m\u001B[1;33m\u001B[0m\u001B[1;33m\u001B[0m\u001B[0m\n",
      "\u001B[1;31mKeyboardInterrupt\u001B[0m: "
     ]
    }
   ],
   "source": [
    "e.run()"
   ]
  },
  {
   "cell_type": "code",
   "execution_count": null,
   "metadata": {},
   "outputs": [],
   "source": [
    " get_dataset_by_string('acute_inflam')"
   ]
  }
 ],
 "metadata": {
  "kernelspec": {
   "display_name": "Python 3",
   "language": "python",
   "name": "python3"
  },
  "language_info": {
   "codemirror_mode": {
    "name": "ipython",
    "version": 3
   },
   "file_extension": ".py",
   "mimetype": "text/x-python",
   "name": "python",
   "nbconvert_exporter": "python",
   "pygments_lexer": "ipython3",
   "version": "3.8.8"
  },
  "varInspector": {
   "cols": {
    "lenName": 16,
    "lenType": 16,
    "lenVar": 40
   },
   "kernels_config": {
    "python": {
     "delete_cmd_postfix": "",
     "delete_cmd_prefix": "del ",
     "library": "var_list.py",
     "varRefreshCmd": "print(var_dic_list())"
    },
    "r": {
     "delete_cmd_postfix": ") ",
     "delete_cmd_prefix": "rm(",
     "library": "var_list.r",
     "varRefreshCmd": "cat(var_dic_list()) "
    }
   },
   "types_to_exclude": [
    "module",
    "function",
    "builtin_function_or_method",
    "instance",
    "_Feature"
   ],
   "window_display": false
  }
 },
 "nbformat": 4,
 "nbformat_minor": 2
}
